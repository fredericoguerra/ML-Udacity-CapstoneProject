{
 "cells": [
  {
   "cell_type": "markdown",
   "metadata": {
    "colab_type": "text",
    "id": "x054SlxwhWzJ"
   },
   "source": [
    "# Install libraries and load the dataset"
   ]
  },
  {
   "cell_type": "code",
   "execution_count": 1,
   "metadata": {
    "colab": {
     "base_uri": "https://localhost:8080/",
     "height": 1329
    },
    "colab_type": "code",
    "id": "wxEfB3xSQn_I",
    "outputId": "344070dc-4c1b-4eb4-bd38-b831957ea1f0"
   },
   "outputs": [],
   "source": [
    "import pandas_profiling as pp\n",
    "import json\n",
    "import pandas as pd\n",
    "import matplotlib.pyplot as plt\n",
    "import numpy as np\n",
    "import seaborn as sns\n",
    "import visual as vs"
   ]
  },
  {
   "cell_type": "code",
   "execution_count": 2,
   "metadata": {},
   "outputs": [],
   "source": [
    "!chmod 777 'globalterrorismdb_0718dist.csv'"
   ]
  },
  {
   "cell_type": "code",
   "execution_count": 3,
   "metadata": {
    "colab": {
     "base_uri": "https://localhost:8080/",
     "height": 71
    },
    "colab_type": "code",
    "id": "GwnXVxoBKB3z",
    "outputId": "11ac1d05-98ab-49b2-eaf9-cca12a03912d"
   },
   "outputs": [],
   "source": [
    "GTD = pd.read_csv('globalterrorismdb_0718dist.csv', engine = 'python')"
   ]
  },
  {
   "cell_type": "markdown",
   "metadata": {
    "colab_type": "text",
    "id": "-pJc2ydXvd0D"
   },
   "source": [
    "# Exploring the Dataset"
   ]
  },
  {
   "cell_type": "markdown",
   "metadata": {},
   "source": [
    "The Global Terrorism Database (GTD) is maintained by the National Consortium for the Study of Terrorism and Responses to Terrorism (START). The current GTD is the product of several phases of data collection efforts, each relying on publicly available, unclassified source materials. These include media articles and electronic news archives, and to a lesser extent, existing data sets, secondary source materials such as books and journals, and legal documents.\n",
    "\n",
    "**GTD Definition of Terrorism**\n",
    "\n",
    "The GTD defines a terrorist attack as the threatened or actual use of illegal force and violence by a non-state actor to attain a political, economic, religious, or social goal through fear, coercion, or intimidation. In practice this means in order to consider an incident for inclusion in the GTD, all three of the following attributes must be present:\n",
    "\n",
    "- The incident must be intentional;\n",
    "\n",
    "- The incident must entail some level of violence or immediate threat of violence;\n",
    "\n",
    "- The perpetrators of the incidents must be sub-national actors;"
   ]
  },
  {
   "cell_type": "markdown",
   "metadata": {},
   "source": [
    "The entire dataset has 135 features and about 180k rows of data"
   ]
  },
  {
   "cell_type": "code",
   "execution_count": 6,
   "metadata": {},
   "outputs": [
    {
     "data": {
      "text/plain": [
       "(181691, 135)"
      ]
     },
     "execution_count": 6,
     "metadata": {},
     "output_type": "execute_result"
    }
   ],
   "source": [
    "GTD.shape"
   ]
  },
  {
   "cell_type": "code",
   "execution_count": 7,
   "metadata": {
    "colab": {
     "base_uri": "https://localhost:8080/",
     "height": 233
    },
    "colab_type": "code",
    "id": "gTtDjRat6gF7",
    "outputId": "95e75817-0e29-47b1-d902-a82780b9497c"
   },
   "outputs": [
    {
     "data": {
      "text/html": [
       "<div>\n",
       "<style scoped>\n",
       "    .dataframe tbody tr th:only-of-type {\n",
       "        vertical-align: middle;\n",
       "    }\n",
       "\n",
       "    .dataframe tbody tr th {\n",
       "        vertical-align: top;\n",
       "    }\n",
       "\n",
       "    .dataframe thead th {\n",
       "        text-align: right;\n",
       "    }\n",
       "</style>\n",
       "<table border=\"1\" class=\"dataframe\">\n",
       "  <thead>\n",
       "    <tr style=\"text-align: right;\">\n",
       "      <th></th>\n",
       "      <th>eventid</th>\n",
       "      <th>iyear</th>\n",
       "      <th>imonth</th>\n",
       "      <th>iday</th>\n",
       "      <th>approxdate</th>\n",
       "      <th>extended</th>\n",
       "      <th>resolution</th>\n",
       "      <th>country</th>\n",
       "      <th>country_txt</th>\n",
       "      <th>region</th>\n",
       "      <th>...</th>\n",
       "      <th>addnotes</th>\n",
       "      <th>scite1</th>\n",
       "      <th>scite2</th>\n",
       "      <th>scite3</th>\n",
       "      <th>dbsource</th>\n",
       "      <th>INT_LOG</th>\n",
       "      <th>INT_IDEO</th>\n",
       "      <th>INT_MISC</th>\n",
       "      <th>INT_ANY</th>\n",
       "      <th>related</th>\n",
       "    </tr>\n",
       "  </thead>\n",
       "  <tbody>\n",
       "    <tr>\n",
       "      <th>0</th>\n",
       "      <td>197000000001</td>\n",
       "      <td>1970</td>\n",
       "      <td>7</td>\n",
       "      <td>2</td>\n",
       "      <td>NaN</td>\n",
       "      <td>0</td>\n",
       "      <td>NaN</td>\n",
       "      <td>58</td>\n",
       "      <td>Dominican Republic</td>\n",
       "      <td>2</td>\n",
       "      <td>...</td>\n",
       "      <td>NaN</td>\n",
       "      <td>NaN</td>\n",
       "      <td>NaN</td>\n",
       "      <td>NaN</td>\n",
       "      <td>PGIS</td>\n",
       "      <td>0</td>\n",
       "      <td>0</td>\n",
       "      <td>0</td>\n",
       "      <td>0</td>\n",
       "      <td>NaN</td>\n",
       "    </tr>\n",
       "    <tr>\n",
       "      <th>1</th>\n",
       "      <td>197000000002</td>\n",
       "      <td>1970</td>\n",
       "      <td>0</td>\n",
       "      <td>0</td>\n",
       "      <td>NaN</td>\n",
       "      <td>0</td>\n",
       "      <td>NaN</td>\n",
       "      <td>130</td>\n",
       "      <td>Mexico</td>\n",
       "      <td>1</td>\n",
       "      <td>...</td>\n",
       "      <td>NaN</td>\n",
       "      <td>NaN</td>\n",
       "      <td>NaN</td>\n",
       "      <td>NaN</td>\n",
       "      <td>PGIS</td>\n",
       "      <td>0</td>\n",
       "      <td>1</td>\n",
       "      <td>1</td>\n",
       "      <td>1</td>\n",
       "      <td>NaN</td>\n",
       "    </tr>\n",
       "    <tr>\n",
       "      <th>2</th>\n",
       "      <td>197001000001</td>\n",
       "      <td>1970</td>\n",
       "      <td>1</td>\n",
       "      <td>0</td>\n",
       "      <td>NaN</td>\n",
       "      <td>0</td>\n",
       "      <td>NaN</td>\n",
       "      <td>160</td>\n",
       "      <td>Philippines</td>\n",
       "      <td>5</td>\n",
       "      <td>...</td>\n",
       "      <td>NaN</td>\n",
       "      <td>NaN</td>\n",
       "      <td>NaN</td>\n",
       "      <td>NaN</td>\n",
       "      <td>PGIS</td>\n",
       "      <td>-9</td>\n",
       "      <td>-9</td>\n",
       "      <td>1</td>\n",
       "      <td>1</td>\n",
       "      <td>NaN</td>\n",
       "    </tr>\n",
       "    <tr>\n",
       "      <th>3</th>\n",
       "      <td>197001000002</td>\n",
       "      <td>1970</td>\n",
       "      <td>1</td>\n",
       "      <td>0</td>\n",
       "      <td>NaN</td>\n",
       "      <td>0</td>\n",
       "      <td>NaN</td>\n",
       "      <td>78</td>\n",
       "      <td>Greece</td>\n",
       "      <td>8</td>\n",
       "      <td>...</td>\n",
       "      <td>NaN</td>\n",
       "      <td>NaN</td>\n",
       "      <td>NaN</td>\n",
       "      <td>NaN</td>\n",
       "      <td>PGIS</td>\n",
       "      <td>-9</td>\n",
       "      <td>-9</td>\n",
       "      <td>1</td>\n",
       "      <td>1</td>\n",
       "      <td>NaN</td>\n",
       "    </tr>\n",
       "    <tr>\n",
       "      <th>4</th>\n",
       "      <td>197001000003</td>\n",
       "      <td>1970</td>\n",
       "      <td>1</td>\n",
       "      <td>0</td>\n",
       "      <td>NaN</td>\n",
       "      <td>0</td>\n",
       "      <td>NaN</td>\n",
       "      <td>101</td>\n",
       "      <td>Japan</td>\n",
       "      <td>4</td>\n",
       "      <td>...</td>\n",
       "      <td>NaN</td>\n",
       "      <td>NaN</td>\n",
       "      <td>NaN</td>\n",
       "      <td>NaN</td>\n",
       "      <td>PGIS</td>\n",
       "      <td>-9</td>\n",
       "      <td>-9</td>\n",
       "      <td>1</td>\n",
       "      <td>1</td>\n",
       "      <td>NaN</td>\n",
       "    </tr>\n",
       "  </tbody>\n",
       "</table>\n",
       "<p>5 rows × 135 columns</p>\n",
       "</div>"
      ],
      "text/plain": [
       "        eventid  iyear  imonth  iday approxdate  extended resolution  country  \\\n",
       "0  197000000001   1970       7     2        NaN         0        NaN       58   \n",
       "1  197000000002   1970       0     0        NaN         0        NaN      130   \n",
       "2  197001000001   1970       1     0        NaN         0        NaN      160   \n",
       "3  197001000002   1970       1     0        NaN         0        NaN       78   \n",
       "4  197001000003   1970       1     0        NaN         0        NaN      101   \n",
       "\n",
       "          country_txt  region   ...    addnotes scite1 scite2  scite3  \\\n",
       "0  Dominican Republic       2   ...         NaN    NaN    NaN     NaN   \n",
       "1              Mexico       1   ...         NaN    NaN    NaN     NaN   \n",
       "2         Philippines       5   ...         NaN    NaN    NaN     NaN   \n",
       "3              Greece       8   ...         NaN    NaN    NaN     NaN   \n",
       "4               Japan       4   ...         NaN    NaN    NaN     NaN   \n",
       "\n",
       "   dbsource  INT_LOG  INT_IDEO INT_MISC INT_ANY  related  \n",
       "0      PGIS        0         0        0       0      NaN  \n",
       "1      PGIS        0         1        1       1      NaN  \n",
       "2      PGIS       -9        -9        1       1      NaN  \n",
       "3      PGIS       -9        -9        1       1      NaN  \n",
       "4      PGIS       -9        -9        1       1      NaN  \n",
       "\n",
       "[5 rows x 135 columns]"
      ]
     },
     "execution_count": 7,
     "metadata": {},
     "output_type": "execute_result"
    }
   ],
   "source": [
    "GTD.head()"
   ]
  },
  {
   "cell_type": "code",
   "execution_count": 11,
   "metadata": {
    "colab": {
     "base_uri": "https://localhost:8080/",
     "height": 34
    },
    "colab_type": "code",
    "id": "-HSX2JS4MrZA",
    "outputId": "1248344f-d134-4bdc-cfb6-d28023668028"
   },
   "outputs": [
    {
     "name": "stdout",
     "output_type": "stream",
     "text": [
      "48.56% of incidents occured at least one death.\n"
     ]
    }
   ],
   "source": [
    "print(\"{}% of incidents occured at least one death.\".format(round(float(GTD[GTD.nkill > 0]['nkill'].count())/GTD.nkill.notna().sum()*100,2)))"
   ]
  },
  {
   "cell_type": "markdown",
   "metadata": {
    "colab_type": "text",
    "id": "LDLJTdFwg-QF"
   },
   "source": [
    "Number of deaths by year from 1970 to 2017:"
   ]
  },
  {
   "cell_type": "code",
   "execution_count": 7,
   "metadata": {
    "colab": {
     "base_uri": "https://localhost:8080/",
     "height": 518
    },
    "colab_type": "code",
    "id": "j-fB5fwR3dMJ",
    "outputId": "9348e90f-42df-4916-9e52-a6e878f67e37"
   },
   "outputs": [
    {
     "name": "stderr",
     "output_type": "stream",
     "text": [
      "/usr/lib/python2.7/dist-packages/seaborn/categorical.py:1460: FutureWarning: remove_na is deprecated and is a private function. Do not use.\n",
      "  stat_data = remove_na(group_data)\n",
      "/usr/lib/python2.7/dist-packages/scipy/stats/stats.py:1633: FutureWarning: Using a non-tuple sequence for multidimensional indexing is deprecated; use `arr[tuple(seq)]` instead of `arr[seq]`. In the future this will be interpreted as an array index, `arr[np.array(seq)]`, which will result either in an error or a different result.\n",
      "  return np.add.reduce(sorted[indexer] * weights, axis=axis) / sumval\n"
     ]
    },
    {
     "data": {
      "text/plain": [
       "(array([ 0,  1,  2,  3,  4,  5,  6,  7,  8,  9, 10, 11, 12, 13, 14, 15, 16,\n",
       "        17, 18, 19, 20, 21, 22, 23, 24, 25, 26, 27, 28, 29, 30, 31, 32, 33,\n",
       "        34, 35, 36, 37, 38, 39, 40, 41, 42, 43, 44, 45, 46]),\n",
       " <a list of 47 Text xticklabel objects>)"
      ]
     },
     "execution_count": 7,
     "metadata": {},
     "output_type": "execute_result"
    },
    {
     "data": {
      "image/png": "[encoded data removed]",
      "text/plain": [
       "<Figure size 1296x432 with 1 Axes>"
      ]
     },
     "metadata": {
      "needs_background": "light"
     },
     "output_type": "display_data"
    }
   ],
   "source": [
    "plt.subplots(figsize=(18,6))\n",
    "ax = sns.barplot(x=\"iyear\", y=\"nkill\", data=GTD, estimator = sum, palette='RdYlGn_r',edgecolor=sns.color_palette('dark',7)).set_title('Number of deaths by year')\n",
    "plt.xticks(rotation=90)"
   ]
  },
  {
   "cell_type": "markdown",
   "metadata": {
    "colab_type": "text",
    "id": "RgH1dtnOhQYD"
   },
   "source": [
    "# Preparing the dataset\n",
    "\n",
    "### Treat Missing Values\n",
    "*- Avoid features with more than 50% of NAN*\n",
    "\n",
    "*- Fill NA*\n",
    "### Transform skewed continuos features and Normalize numerical features\n",
    "\n",
    "### Transform categorical to numerical variables\n",
    "*- One Hot Encoding*\n",
    "\n",
    "*- Label Encoding*\n",
    "### Correlation Matrix and Feature Importance\n",
    "\n",
    "### Shuffle and Split Data"
   ]
  },
  {
   "cell_type": "markdown",
   "metadata": {
    "colab_type": "text",
    "id": "61i7vLzzWeyE"
   },
   "source": [
    "### Creating the target variable"
   ]
  },
  {
   "cell_type": "code",
   "execution_count": 8,
   "metadata": {
    "colab": {
     "base_uri": "https://localhost:8080/",
     "height": 51
    },
    "colab_type": "code",
    "id": "DwVE356-WvJ2",
    "outputId": "8742e9e1-d93d-44d6-a05f-a1d2917cbdd8"
   },
   "outputs": [
    {
     "name": "stdout",
     "output_type": "stream",
     "text": [
      "GTD length before: 181691 \n",
      "GTD length after: 171378 \n"
     ]
    }
   ],
   "source": [
    "print(\"GTD length before: %.2d \" % len(GTD))\n",
    "GTD = GTD[GTD['nkill'].notnull()]\n",
    "GTD['death'] = np.where(GTD.nkill > 0, 1, 0)\n",
    "GTD = GTD.drop(['nkill'], axis = 1)\n",
    "print(\"GTD length after: %.2d \" % len(GTD))"
   ]
  },
  {
   "cell_type": "markdown",
   "metadata": {
    "colab_type": "text",
    "id": "y3Pu6ZNbW6oE"
   },
   "source": [
    "### Treating Missing Values"
   ]
  },
  {
   "cell_type": "markdown",
   "metadata": {
    "colab_type": "text",
    "id": "RhrT0Q_KwE5m"
   },
   "source": [
    "Avoid features with more than 50% of missing values"
   ]
  },
  {
   "cell_type": "code",
   "execution_count": 9,
   "metadata": {
    "colab": {},
    "colab_type": "code",
    "id": "-7MW5z86fKjJ"
   },
   "outputs": [],
   "source": [
    "def missing_values(data,mis_min):\n",
    "    columns = data.columns\n",
    "    percent_missing = data.isnull().sum() * 100 / len(data)\n",
    "    unique = data.nunique()\n",
    "    missing_value_data = pd.DataFrame({'column_name': columns,\n",
    "                                 'percent_missing': percent_missing,\n",
    "                                 'unique': unique})\n",
    "    missing_drop = list(missing_value_data[missing_value_data.percent_missing>mis_min].column_name)\n",
    "    return(missing_drop)"
   ]
  },
  {
   "cell_type": "markdown",
   "metadata": {
    "colab_type": "text",
    "id": "rnF4iqadwe4M"
   },
   "source": [
    "Number of remaining Features"
   ]
  },
  {
   "cell_type": "code",
   "execution_count": 10,
   "metadata": {
    "colab": {
     "base_uri": "https://localhost:8080/",
     "height": 51
    },
    "colab_type": "code",
    "id": "-C8k5u2Ev6Ul",
    "outputId": "4f127e6f-94e5-4548-d47b-062834706809"
   },
   "outputs": [
    {
     "name": "stdout",
     "output_type": "stream",
     "text": [
      "Number of features before dropping features: 135\n",
      "Number of features after dropping features: 58\n"
     ]
    }
   ],
   "source": [
    "print(\"Number of features before dropping features: %.1d\" % GTD.shape[1])\n",
    "GTD['natlty1'].fillna(GTD['country'], inplace = True)\n",
    "\n",
    "missing_drop = missing_values(GTD,50)\n",
    "GTD = GTD.drop(missing_drop, axis=1)\n",
    "print(\"Number of features after dropping features: %.1d\" % GTD.shape[1])"
   ]
  },
  {
   "cell_type": "code",
   "execution_count": 11,
   "metadata": {
    "colab": {
     "base_uri": "https://localhost:8080/",
     "height": 544
    },
    "colab_type": "code",
    "id": "Tnv_zURswu67",
    "outputId": "e079814a-717c-468b-ee70-c8aa54d09ba7"
   },
   "outputs": [
    {
     "data": {
      "text/plain": [
       "nperps              38.077233\n",
       "weapdetail          37.028090\n",
       "nperpcap            36.941148\n",
       "nwoundte            36.239191\n",
       "scite1              35.111274\n",
       "summary             35.075681\n",
       "claimed             35.070429\n",
       "nkillter            34.942641\n",
       "nwoundus            34.212093\n",
       "nkillus             34.064466\n",
       "corp1               21.903628\n",
       "weapsubtype1        10.486177\n",
       "weapsubtype1_txt    10.486177\n",
       "targsubtype1         5.795960\n",
       "targsubtype1_txt     5.795960\n",
       "nwound               3.828379\n",
       "longitude            2.347442\n",
       "latitude             2.346859\n",
       "natlty1_txt          0.889262\n",
       "target1              0.348353\n",
       "city                 0.253241\n",
       "provstate            0.231652\n",
       "guncertain1          0.219982\n",
       "ishostkid            0.094528\n",
       "specificity          0.003501\n",
       "multiple             0.000584\n",
       "doubtterr            0.000584\n",
       "dtype: float64"
      ]
     },
     "execution_count": 11,
     "metadata": {},
     "output_type": "execute_result"
    }
   ],
   "source": [
    "(GTD.isnull().sum(axis=0)/len(GTD)*100).sort_values(ascending=False).head(27)"
   ]
  },
  {
   "cell_type": "code",
   "execution_count": 12,
   "metadata": {
    "colab": {},
    "colab_type": "code",
    "id": "RuxNLeIkzUt9"
   },
   "outputs": [],
   "source": [
    "mode_fill = ['nwound','longitude','latitude','weapsubtype1','weapsubtype1_txt','targsubtype1','targsubtype1_txt','natlty1_txt','guncertain1','ishostkid', 'specificity','doubtterr','multiple', 'target1', 'city', 'provstate']\n",
    "for col in mode_fill:\n",
    "    GTD[col].fillna(GTD[col].mode()[0], inplace=True)"
   ]
  },
  {
   "cell_type": "code",
   "execution_count": 13,
   "metadata": {
    "colab": {
     "base_uri": "https://localhost:8080/",
     "height": 272
    },
    "colab_type": "code",
    "id": "PpuLnPvviCHl",
    "outputId": "2e2f05ed-ce71-4db4-ff48-6662747be1b0"
   },
   "outputs": [
    {
     "data": {
      "text/plain": [
       "nperps        38.077233\n",
       "weapdetail    37.028090\n",
       "nperpcap      36.941148\n",
       "nwoundte      36.239191\n",
       "scite1        35.111274\n",
       "summary       35.075681\n",
       "claimed       35.070429\n",
       "nkillter      34.942641\n",
       "nwoundus      34.212093\n",
       "nkillus       34.064466\n",
       "corp1         21.903628\n",
       "crit2          0.000000\n",
       "crit1          0.000000\n",
       "crit3          0.000000\n",
       "dtype: float64"
      ]
     },
     "execution_count": 13,
     "metadata": {},
     "output_type": "execute_result"
    }
   ],
   "source": [
    "(GTD.isnull().sum(axis=0)/len(GTD)*100).sort_values(ascending=False).head(14)"
   ]
  },
  {
   "cell_type": "markdown",
   "metadata": {},
   "source": [
    "Look for a better way to treate features with at least 20% missing"
   ]
  },
  {
   "cell_type": "code",
   "execution_count": 14,
   "metadata": {
    "colab": {},
    "colab_type": "code",
    "id": "oDzN2Fksxtjq"
   },
   "outputs": [],
   "source": [
    "missing_drop = missing_values(GTD,20)\n",
    "GTD = GTD.drop(missing_drop, axis=1)"
   ]
  },
  {
   "cell_type": "code",
   "execution_count": 15,
   "metadata": {},
   "outputs": [
    {
     "name": "stdout",
     "output_type": "stream",
     "text": [
      "death        0.0\n",
      "latitude     0.0\n",
      "success      0.0\n",
      "multiple     0.0\n",
      "doubtterr    0.0\n",
      "dtype: float64\n",
      "Missing values successfully treated!!!\n"
     ]
    }
   ],
   "source": [
    "print((GTD.isnull().sum(axis=0)/len(GTD)*100).sort_values(ascending=False).head(5))\n",
    "print(\"Missing values successfully treated!!!\")"
   ]
  },
  {
   "cell_type": "markdown",
   "metadata": {},
   "source": [
    "### Transform skewed continuos features and Normalizing Numerical Features"
   ]
  },
  {
   "cell_type": "code",
   "execution_count": 16,
   "metadata": {},
   "outputs": [],
   "source": [
    "GTD['suicide'] = GTD.suicide.astype('object')"
   ]
  },
  {
   "cell_type": "code",
   "execution_count": 17,
   "metadata": {
    "colab": {
     "base_uri": "https://localhost:8080/",
     "height": 918
    },
    "colab_type": "code",
    "id": "VgUb6gv3Rwv0",
    "outputId": "11fb674a-46ad-41f1-efcc-eefe790906f6"
   },
   "outputs": [],
   "source": [
    "from scipy.stats import skew\n",
    "\n",
    "num_features = GTD.dtypes[GTD.dtypes != 'object'].index\n",
    "skewed_feat = GTD[num_features].apply(lambda x: skew(x))\n",
    "skewed_feat = skewed_feat[skewed_feat > 0.75]\n",
    "skewed_feat = skewed_feat.index\n",
    "\n",
    "GTD[skewed_feat] = np.log1p(GTD[skewed_feat])"
   ]
  },
  {
   "cell_type": "code",
   "execution_count": 18,
   "metadata": {},
   "outputs": [
    {
     "data": {
      "text/html": [
       "<div>\n",
       "<style scoped>\n",
       "    .dataframe tbody tr th:only-of-type {\n",
       "        vertical-align: middle;\n",
       "    }\n",
       "\n",
       "    .dataframe tbody tr th {\n",
       "        vertical-align: top;\n",
       "    }\n",
       "\n",
       "    .dataframe thead th {\n",
       "        text-align: right;\n",
       "    }\n",
       "</style>\n",
       "<table border=\"1\" class=\"dataframe\">\n",
       "  <thead>\n",
       "    <tr style=\"text-align: right;\">\n",
       "      <th></th>\n",
       "      <th>eventid</th>\n",
       "      <th>iyear</th>\n",
       "      <th>imonth</th>\n",
       "      <th>iday</th>\n",
       "      <th>extended</th>\n",
       "      <th>country</th>\n",
       "      <th>country_txt</th>\n",
       "      <th>region</th>\n",
       "      <th>region_txt</th>\n",
       "      <th>provstate</th>\n",
       "      <th>...</th>\n",
       "      <th>weapsubtype1_txt</th>\n",
       "      <th>nwound</th>\n",
       "      <th>property</th>\n",
       "      <th>ishostkid</th>\n",
       "      <th>dbsource</th>\n",
       "      <th>INT_LOG</th>\n",
       "      <th>INT_IDEO</th>\n",
       "      <th>INT_MISC</th>\n",
       "      <th>INT_ANY</th>\n",
       "      <th>death</th>\n",
       "    </tr>\n",
       "  </thead>\n",
       "  <tbody>\n",
       "    <tr>\n",
       "      <th>0</th>\n",
       "      <td>197000000001</td>\n",
       "      <td>1970</td>\n",
       "      <td>7</td>\n",
       "      <td>2</td>\n",
       "      <td>0.0</td>\n",
       "      <td>4.077537</td>\n",
       "      <td>Dominican Republic</td>\n",
       "      <td>2</td>\n",
       "      <td>Central America &amp; Caribbean</td>\n",
       "      <td>Baghdad</td>\n",
       "      <td>...</td>\n",
       "      <td>Unknown Explosive Type</td>\n",
       "      <td>0.0</td>\n",
       "      <td>0</td>\n",
       "      <td>0.0</td>\n",
       "      <td>PGIS</td>\n",
       "      <td>0</td>\n",
       "      <td>0</td>\n",
       "      <td>0</td>\n",
       "      <td>0</td>\n",
       "      <td>1</td>\n",
       "    </tr>\n",
       "    <tr>\n",
       "      <th>1</th>\n",
       "      <td>197000000002</td>\n",
       "      <td>1970</td>\n",
       "      <td>0</td>\n",
       "      <td>0</td>\n",
       "      <td>0.0</td>\n",
       "      <td>4.875197</td>\n",
       "      <td>Mexico</td>\n",
       "      <td>1</td>\n",
       "      <td>North America</td>\n",
       "      <td>Federal</td>\n",
       "      <td>...</td>\n",
       "      <td>Unknown Explosive Type</td>\n",
       "      <td>0.0</td>\n",
       "      <td>0</td>\n",
       "      <td>1.0</td>\n",
       "      <td>PGIS</td>\n",
       "      <td>0</td>\n",
       "      <td>1</td>\n",
       "      <td>1</td>\n",
       "      <td>1</td>\n",
       "      <td>0</td>\n",
       "    </tr>\n",
       "    <tr>\n",
       "      <th>2</th>\n",
       "      <td>197001000001</td>\n",
       "      <td>1970</td>\n",
       "      <td>1</td>\n",
       "      <td>0</td>\n",
       "      <td>0.0</td>\n",
       "      <td>5.081404</td>\n",
       "      <td>Philippines</td>\n",
       "      <td>5</td>\n",
       "      <td>Southeast Asia</td>\n",
       "      <td>Tarlac</td>\n",
       "      <td>...</td>\n",
       "      <td>Unknown Explosive Type</td>\n",
       "      <td>0.0</td>\n",
       "      <td>0</td>\n",
       "      <td>0.0</td>\n",
       "      <td>PGIS</td>\n",
       "      <td>-9</td>\n",
       "      <td>-9</td>\n",
       "      <td>1</td>\n",
       "      <td>1</td>\n",
       "      <td>1</td>\n",
       "    </tr>\n",
       "    <tr>\n",
       "      <th>5</th>\n",
       "      <td>197001010002</td>\n",
       "      <td>1970</td>\n",
       "      <td>1</td>\n",
       "      <td>1</td>\n",
       "      <td>0.0</td>\n",
       "      <td>5.384495</td>\n",
       "      <td>United States</td>\n",
       "      <td>1</td>\n",
       "      <td>North America</td>\n",
       "      <td>Illinois</td>\n",
       "      <td>...</td>\n",
       "      <td>Unknown Gun Type</td>\n",
       "      <td>0.0</td>\n",
       "      <td>1</td>\n",
       "      <td>0.0</td>\n",
       "      <td>Hewitt Project</td>\n",
       "      <td>-9</td>\n",
       "      <td>-9</td>\n",
       "      <td>0</td>\n",
       "      <td>-9</td>\n",
       "      <td>0</td>\n",
       "    </tr>\n",
       "    <tr>\n",
       "      <th>6</th>\n",
       "      <td>197001020001</td>\n",
       "      <td>1970</td>\n",
       "      <td>1</td>\n",
       "      <td>2</td>\n",
       "      <td>0.0</td>\n",
       "      <td>5.389072</td>\n",
       "      <td>Uruguay</td>\n",
       "      <td>3</td>\n",
       "      <td>South America</td>\n",
       "      <td>Montevideo</td>\n",
       "      <td>...</td>\n",
       "      <td>Automatic or Semi-Automatic Rifle</td>\n",
       "      <td>0.0</td>\n",
       "      <td>0</td>\n",
       "      <td>0.0</td>\n",
       "      <td>PGIS</td>\n",
       "      <td>0</td>\n",
       "      <td>0</td>\n",
       "      <td>0</td>\n",
       "      <td>0</td>\n",
       "      <td>0</td>\n",
       "    </tr>\n",
       "  </tbody>\n",
       "</table>\n",
       "<p>5 rows × 47 columns</p>\n",
       "</div>"
      ],
      "text/plain": [
       "        eventid  iyear  imonth  iday  extended   country         country_txt  \\\n",
       "0  197000000001   1970       7     2       0.0  4.077537  Dominican Republic   \n",
       "1  197000000002   1970       0     0       0.0  4.875197              Mexico   \n",
       "2  197001000001   1970       1     0       0.0  5.081404         Philippines   \n",
       "5  197001010002   1970       1     1       0.0  5.384495       United States   \n",
       "6  197001020001   1970       1     2       0.0  5.389072             Uruguay   \n",
       "\n",
       "   region                   region_txt   provstate  ...    \\\n",
       "0       2  Central America & Caribbean     Baghdad  ...     \n",
       "1       1                North America     Federal  ...     \n",
       "2       5               Southeast Asia      Tarlac  ...     \n",
       "5       1                North America    Illinois  ...     \n",
       "6       3                South America  Montevideo  ...     \n",
       "\n",
       "                    weapsubtype1_txt  nwound  property  ishostkid  \\\n",
       "0             Unknown Explosive Type     0.0         0        0.0   \n",
       "1             Unknown Explosive Type     0.0         0        1.0   \n",
       "2             Unknown Explosive Type     0.0         0        0.0   \n",
       "5                   Unknown Gun Type     0.0         1        0.0   \n",
       "6  Automatic or Semi-Automatic Rifle     0.0         0        0.0   \n",
       "\n",
       "         dbsource  INT_LOG  INT_IDEO  INT_MISC  INT_ANY  death  \n",
       "0            PGIS        0         0         0        0      1  \n",
       "1            PGIS        0         1         1        1      0  \n",
       "2            PGIS       -9        -9         1        1      1  \n",
       "5  Hewitt Project       -9        -9         0       -9      0  \n",
       "6            PGIS        0         0         0        0      0  \n",
       "\n",
       "[5 rows x 47 columns]"
      ]
     },
     "execution_count": 18,
     "metadata": {},
     "output_type": "execute_result"
    }
   ],
   "source": [
    "GTD.head(5)"
   ]
  },
  {
   "cell_type": "markdown",
   "metadata": {},
   "source": [
    "### Label Encoder"
   ]
  },
  {
   "cell_type": "code",
   "execution_count": 19,
   "metadata": {},
   "outputs": [],
   "source": [
    "cat_features = GTD.dtypes[GTD.dtypes == 'object'].index\n",
    "\n",
    "from sklearn import preprocessing\n",
    "le = preprocessing.LabelEncoder()\n",
    "\n",
    "for col in cat_features:\n",
    "    GTD[col] = le.fit_transform(GTD[col])"
   ]
  },
  {
   "cell_type": "markdown",
   "metadata": {
    "colab_type": "text",
    "id": "wg_8dRXtRHw6"
   },
   "source": [
    "### Avoiding duplicated features"
   ]
  },
  {
   "cell_type": "code",
   "execution_count": 20,
   "metadata": {},
   "outputs": [
    {
     "name": "stdout",
     "output_type": "stream",
     "text": [
      "There are 08 duplicated columns to be removed\n"
     ]
    }
   ],
   "source": [
    "duplicated_columns = [col for col in GTD.columns if \"_txt\" in col]\n",
    "print(\"There are %.2d duplicated columns to be removed\"%(len(duplicated_columns)))\n",
    "GTD = GTD.drop(duplicated_columns, axis=1)"
   ]
  },
  {
   "cell_type": "markdown",
   "metadata": {
    "colab_type": "text",
    "id": "NAXrHaHpllYi"
   },
   "source": [
    "### Correlation and Most importante Features"
   ]
  },
  {
   "cell_type": "markdown",
   "metadata": {
    "colab_type": "text",
    "id": "oby8j2kKuf-L"
   },
   "source": [
    "**Correlation Matrix**"
   ]
  },
  {
   "cell_type": "code",
   "execution_count": 21,
   "metadata": {
    "colab": {},
    "colab_type": "code",
    "id": "nXptCafcoUtp"
   },
   "outputs": [
    {
     "data": {
      "text/plain": [
       "death           1.000000\n",
       "weapsubtype1    0.318889\n",
       "attacktype1     0.269112\n",
       "nwound          0.254170\n",
       "success         0.234530\n",
       "suicide         0.184430\n",
       "weaptype1       0.133384\n",
       "property        0.128894\n",
       "region          0.128581\n",
       "crit3           0.116588\n",
       "Name: death, dtype: float64"
      ]
     },
     "execution_count": 21,
     "metadata": {},
     "output_type": "execute_result"
    }
   ],
   "source": [
    "corr_matrix = GTD.corr()\n",
    "abs(corr_matrix['death']).sort_values(ascending=False).head(10)"
   ]
  },
  {
   "cell_type": "code",
   "execution_count": 22,
   "metadata": {
    "colab": {
     "base_uri": "https://localhost:8080/",
     "height": 1227
    },
    "colab_type": "code",
    "id": "uGVkQxjTuvrb",
    "outputId": "5b026a9c-a9a5-41b5-c1d4-725686527feb"
   },
   "outputs": [
    {
     "data": {
      "text/plain": [
       "<matplotlib.axes._subplots.AxesSubplot at 0x7fe68d21ad90>"
      ]
     },
     "execution_count": 22,
     "metadata": {},
     "output_type": "execute_result"
    },
    {
     "data": {
      "image/png": "[encoded data removed]",
      "text/plain": [
       "<Figure size 10800x1440 with 2 Axes>"
      ]
     },
     "metadata": {
      "needs_background": "light"
     },
     "output_type": "display_data"
    }
   ],
   "source": [
    "mask = np.zeros_like(corr_matrix, dtype = np.bool)\n",
    "mask[np.triu_indices_from(mask)] = True\n",
    "plt.subplots(figsize=(150,20))\n",
    "cmap = sns.diverging_palette(10,220, as_cmap = True)\n",
    "sns.heatmap(corr_matrix, mask=mask, cmap=cmap, vmax=.4, center=0, square=True, linewidths=.3, cbar_kws={\"shrink\": .5})"
   ]
  },
  {
   "cell_type": "markdown",
   "metadata": {
    "colab_type": "text",
    "id": "dpBMjKD8Fm_V"
   },
   "source": [
    "### Shuffle and Split the data"
   ]
  },
  {
   "cell_type": "code",
   "execution_count": 23,
   "metadata": {
    "colab": {
     "base_uri": "https://localhost:8080/",
     "height": 233
    },
    "colab_type": "code",
    "id": "lKQ4PYW2q3Jh",
    "outputId": "6056e411-4040-4673-cf4d-5c3f044ec7e5"
   },
   "outputs": [
    {
     "data": {
      "text/html": [
       "<div>\n",
       "<style scoped>\n",
       "    .dataframe tbody tr th:only-of-type {\n",
       "        vertical-align: middle;\n",
       "    }\n",
       "\n",
       "    .dataframe tbody tr th {\n",
       "        vertical-align: top;\n",
       "    }\n",
       "\n",
       "    .dataframe thead th {\n",
       "        text-align: right;\n",
       "    }\n",
       "</style>\n",
       "<table border=\"1\" class=\"dataframe\">\n",
       "  <thead>\n",
       "    <tr style=\"text-align: right;\">\n",
       "      <th></th>\n",
       "      <th>eventid</th>\n",
       "      <th>iyear</th>\n",
       "      <th>imonth</th>\n",
       "      <th>iday</th>\n",
       "      <th>extended</th>\n",
       "      <th>country</th>\n",
       "      <th>region</th>\n",
       "      <th>provstate</th>\n",
       "      <th>city</th>\n",
       "      <th>latitude</th>\n",
       "      <th>...</th>\n",
       "      <th>weapsubtype1</th>\n",
       "      <th>nwound</th>\n",
       "      <th>property</th>\n",
       "      <th>ishostkid</th>\n",
       "      <th>dbsource</th>\n",
       "      <th>INT_LOG</th>\n",
       "      <th>INT_IDEO</th>\n",
       "      <th>INT_MISC</th>\n",
       "      <th>INT_ANY</th>\n",
       "      <th>death</th>\n",
       "    </tr>\n",
       "  </thead>\n",
       "  <tbody>\n",
       "    <tr>\n",
       "      <th>0</th>\n",
       "      <td>197000000001</td>\n",
       "      <td>1970</td>\n",
       "      <td>7</td>\n",
       "      <td>2</td>\n",
       "      <td>0.0</td>\n",
       "      <td>4.077537</td>\n",
       "      <td>2</td>\n",
       "      <td>209</td>\n",
       "      <td>28612</td>\n",
       "      <td>18.456792</td>\n",
       "      <td>...</td>\n",
       "      <td>16.0</td>\n",
       "      <td>0.0</td>\n",
       "      <td>0</td>\n",
       "      <td>0.0</td>\n",
       "      <td>13</td>\n",
       "      <td>0</td>\n",
       "      <td>0</td>\n",
       "      <td>0</td>\n",
       "      <td>0</td>\n",
       "      <td>1</td>\n",
       "    </tr>\n",
       "    <tr>\n",
       "      <th>1</th>\n",
       "      <td>197000000002</td>\n",
       "      <td>1970</td>\n",
       "      <td>0</td>\n",
       "      <td>0</td>\n",
       "      <td>0.0</td>\n",
       "      <td>4.875197</td>\n",
       "      <td>1</td>\n",
       "      <td>774</td>\n",
       "      <td>21276</td>\n",
       "      <td>19.371887</td>\n",
       "      <td>...</td>\n",
       "      <td>16.0</td>\n",
       "      <td>0.0</td>\n",
       "      <td>0</td>\n",
       "      <td>1.0</td>\n",
       "      <td>13</td>\n",
       "      <td>0</td>\n",
       "      <td>1</td>\n",
       "      <td>1</td>\n",
       "      <td>1</td>\n",
       "      <td>0</td>\n",
       "    </tr>\n",
       "    <tr>\n",
       "      <th>2</th>\n",
       "      <td>197001000001</td>\n",
       "      <td>1970</td>\n",
       "      <td>1</td>\n",
       "      <td>0</td>\n",
       "      <td>0.0</td>\n",
       "      <td>5.081404</td>\n",
       "      <td>5</td>\n",
       "      <td>2474</td>\n",
       "      <td>33162</td>\n",
       "      <td>15.478598</td>\n",
       "      <td>...</td>\n",
       "      <td>16.0</td>\n",
       "      <td>0.0</td>\n",
       "      <td>0</td>\n",
       "      <td>0.0</td>\n",
       "      <td>13</td>\n",
       "      <td>-9</td>\n",
       "      <td>-9</td>\n",
       "      <td>1</td>\n",
       "      <td>1</td>\n",
       "      <td>1</td>\n",
       "    </tr>\n",
       "    <tr>\n",
       "      <th>5</th>\n",
       "      <td>197001010002</td>\n",
       "      <td>1970</td>\n",
       "      <td>1</td>\n",
       "      <td>1</td>\n",
       "      <td>0.0</td>\n",
       "      <td>5.384495</td>\n",
       "      <td>1</td>\n",
       "      <td>1004</td>\n",
       "      <td>6102</td>\n",
       "      <td>37.005105</td>\n",
       "      <td>...</td>\n",
       "      <td>5.0</td>\n",
       "      <td>0.0</td>\n",
       "      <td>1</td>\n",
       "      <td>0.0</td>\n",
       "      <td>8</td>\n",
       "      <td>-9</td>\n",
       "      <td>-9</td>\n",
       "      <td>0</td>\n",
       "      <td>-9</td>\n",
       "      <td>0</td>\n",
       "    </tr>\n",
       "    <tr>\n",
       "      <th>6</th>\n",
       "      <td>197001020001</td>\n",
       "      <td>1970</td>\n",
       "      <td>1</td>\n",
       "      <td>2</td>\n",
       "      <td>0.0</td>\n",
       "      <td>5.389072</td>\n",
       "      <td>3</td>\n",
       "      <td>1625</td>\n",
       "      <td>21795</td>\n",
       "      <td>-34.891151</td>\n",
       "      <td>...</td>\n",
       "      <td>2.0</td>\n",
       "      <td>0.0</td>\n",
       "      <td>0</td>\n",
       "      <td>0.0</td>\n",
       "      <td>13</td>\n",
       "      <td>0</td>\n",
       "      <td>0</td>\n",
       "      <td>0</td>\n",
       "      <td>0</td>\n",
       "      <td>0</td>\n",
       "    </tr>\n",
       "  </tbody>\n",
       "</table>\n",
       "<p>5 rows × 39 columns</p>\n",
       "</div>"
      ],
      "text/plain": [
       "        eventid  iyear  imonth  iday  extended   country  region  provstate  \\\n",
       "0  197000000001   1970       7     2       0.0  4.077537       2        209   \n",
       "1  197000000002   1970       0     0       0.0  4.875197       1        774   \n",
       "2  197001000001   1970       1     0       0.0  5.081404       5       2474   \n",
       "5  197001010002   1970       1     1       0.0  5.384495       1       1004   \n",
       "6  197001020001   1970       1     2       0.0  5.389072       3       1625   \n",
       "\n",
       "    city   latitude  ...    weapsubtype1  nwound  property  ishostkid  \\\n",
       "0  28612  18.456792  ...            16.0     0.0         0        0.0   \n",
       "1  21276  19.371887  ...            16.0     0.0         0        1.0   \n",
       "2  33162  15.478598  ...            16.0     0.0         0        0.0   \n",
       "5   6102  37.005105  ...             5.0     0.0         1        0.0   \n",
       "6  21795 -34.891151  ...             2.0     0.0         0        0.0   \n",
       "\n",
       "   dbsource  INT_LOG  INT_IDEO  INT_MISC  INT_ANY  death  \n",
       "0        13        0         0         0        0      1  \n",
       "1        13        0         1         1        1      0  \n",
       "2        13       -9        -9         1        1      1  \n",
       "5         8       -9        -9         0       -9      0  \n",
       "6        13        0         0         0        0      0  \n",
       "\n",
       "[5 rows x 39 columns]"
      ]
     },
     "execution_count": 23,
     "metadata": {},
     "output_type": "execute_result"
    }
   ],
   "source": [
    "GTD.head(5)"
   ]
  },
  {
   "cell_type": "code",
   "execution_count": 24,
   "metadata": {
    "colab": {
     "base_uri": "https://localhost:8080/",
     "height": 51
    },
    "colab_type": "code",
    "id": "DA8qa6vxGDVM",
    "outputId": "49197f75-bb5e-4ebc-fe6c-5e285abe410d"
   },
   "outputs": [
    {
     "name": "stdout",
     "output_type": "stream",
     "text": [
      "Training set has 137102 samples.\n",
      "Testing set has 34276 samples.\n"
     ]
    }
   ],
   "source": [
    "from sklearn.model_selection import train_test_split\n",
    "\n",
    "income = GTD['death']\n",
    "\n",
    "# Split the 'features' and 'income' data into training and testing sets\n",
    "X_train, X_test, y_train, y_test = train_test_split(GTD.drop(['death'], axis=1),\n",
    "                                                    income,\n",
    "                                                    shuffle=True,\n",
    "                                                    test_size = 0.2,\n",
    "                                                    random_state = 43)\n",
    "\n",
    "# Show the results of the split\n",
    "print(\"Training set has {} samples.\".format(X_train.shape[0]))\n",
    "print(\"Testing set has {} samples.\".format(X_test.shape[0]))"
   ]
  },
  {
   "cell_type": "markdown",
   "metadata": {
    "colab_type": "text",
    "id": "HOtIPoPoCzYX"
   },
   "source": [
    "# Evaluation Model Perfomance"
   ]
  },
  {
   "cell_type": "markdown",
   "metadata": {
    "colab_type": "text",
    "id": "zdXlNdL_Dp1m"
   },
   "source": [
    "## Training and Predicting Pipeline"
   ]
  },
  {
   "cell_type": "code",
   "execution_count": 25,
   "metadata": {
    "colab": {},
    "colab_type": "code",
    "id": "C_GLB_xQCxw2"
   },
   "outputs": [],
   "source": [
    "from sklearn.metrics import fbeta_score, accuracy_score\n",
    "import time\n",
    "\n",
    "def train_predict(learner, sample_size, X_train, y_train, X_test, y_test): \n",
    "    \n",
    "    results = {}\n",
    "\n",
    "    start = time.time()\n",
    "    learner = learner.fit(X_train[:sample_size], y_train[:sample_size])\n",
    "    end = time.time()\n",
    "    \n",
    "    # Training time\n",
    "    results['train_time'] = end - start\n",
    "        \n",
    "    # TODO: Get the predictions on the test set(X_test),\n",
    "    #       then get predictions on the first 300 training samples(X_train) using .predict()\n",
    "    start = time.time() # Get start time\n",
    "    predictions_test = learner.predict(X_test)\n",
    "    predictions_train = learner.predict(X_train[:300])\n",
    "    end = time.time() # Get end time\n",
    "    \n",
    "    # TODO: Calculate the total prediction time\n",
    "    results['pred_time'] = end - start\n",
    "            \n",
    "    # TODO: Compute accuracy on the first 300 training samples which is y_train[:300]\n",
    "    results['acc_train'] = accuracy_score(y_train[:300], predictions_train)\n",
    "        \n",
    "    # TODO: Compute accuracy on test set using accuracy_score()\n",
    "    results['acc_test'] = accuracy_score(y_test, predictions_test)\n",
    "    \n",
    "    # TODO: Compute F-score on the the first 300 training samples using fbeta_score()\n",
    "    results['f_train'] = fbeta_score(y_train[:300], predictions_train, beta = 0.5, average = 'weighted')\n",
    "        \n",
    "    # TODO: Compute F-score on the test set which is y_test\n",
    "    results['f_test'] = fbeta_score(y_test, predictions_test,  beta = 0.5, average = 'weighted')\n",
    "       \n",
    "    # Success\n",
    "    print(\"{} trained on {} samples.\".format(learner.__class__.__name__, sample_size))\n",
    "        \n",
    "    # Return the results\n",
    "    return results"
   ]
  },
  {
   "cell_type": "code",
   "execution_count": 26,
   "metadata": {
    "colab": {
     "base_uri": "https://localhost:8080/",
     "height": 367
    },
    "colab_type": "code",
    "id": "dK4PIZGJLx-Q",
    "outputId": "384a1076-9b12-427f-e4c6-a3d87a4363f9"
   },
   "outputs": [
    {
     "name": "stderr",
     "output_type": "stream",
     "text": [
      "/usr/lib/python2.7/dist-packages/sklearn/ensemble/weight_boosting.py:29: DeprecationWarning: numpy.core.umath_tests is an internal NumPy module and should not be imported. It will be removed in a future NumPy release.\n",
      "  from numpy.core.umath_tests import inner1d\n"
     ]
    },
    {
     "name": "stdout",
     "output_type": "stream",
     "text": [
      "KNeighborsClassifier trained on 1371 samples.\n",
      "KNeighborsClassifier trained on 13710 samples.\n",
      "KNeighborsClassifier trained on 137102 samples.\n",
      "AdaBoostClassifier trained on 1371 samples.\n",
      "AdaBoostClassifier trained on 13710 samples.\n",
      "AdaBoostClassifier trained on 137102 samples.\n",
      "RandomForestClassifier trained on 1371 samples.\n",
      "RandomForestClassifier trained on 13710 samples.\n",
      "RandomForestClassifier trained on 137102 samples.\n"
     ]
    },
    {
     "data": {
      "image/png": "[encoded data removed]",
      "text/plain": [
       "<Figure size 792x504 with 6 Axes>"
      ]
     },
     "metadata": {
      "needs_background": "light"
     },
     "output_type": "display_data"
    }
   ],
   "source": [
    "# TODO: Import the three supervised learning models from sklearn\n",
    "from sklearn.neighbors import KNeighborsClassifier\n",
    "from sklearn.ensemble import RandomForestClassifier, AdaBoostClassifier\n",
    "from sklearn.naive_bayes import GaussianNB\n",
    "\n",
    "# TODO: Initialize the three models\n",
    "clf_A = KNeighborsClassifier()\n",
    "clf_B = AdaBoostClassifier(random_state = 41)\n",
    "clf_C = RandomForestClassifier(random_state = 41)\n",
    "#clf_D = GaussianNB()\n",
    "\n",
    "# TODO: Calculate the number of samples for 1%, 10%, and 100% of the training data\n",
    "# HINT: samples_100 is the entire training set i.e. len(y_train)\n",
    "    # HINT: samples_10 is 10% of samples_100 (ensure to set the count of the values to be `int` and not `float`)\n",
    "# HINT: samples_1 is 1% of samples_100 (ensure to set the count of the values to be `int` and not `float`)\n",
    "samples_100 = len(y_train)\n",
    "samples_10 = int(samples_100/10)\n",
    "samples_1 = int(samples_100/100)\n",
    "\n",
    "\n",
    "# Collect results on the learners\n",
    "results = {}\n",
    "for clf in [clf_A, clf_B, clf_C]:\n",
    "    clf_name = clf.__class__.__name__\n",
    "    results[clf_name] = {}\n",
    "    for i, samples in enumerate([samples_1, samples_10, samples_100]):\n",
    "        results[clf_name][i] = train_predict(clf, samples, X_train, y_train, X_test, y_test)\n",
    "accuracy = 0\n",
    "f1 = 0\n",
    "# Run metrics visualization for the three supervised learning models chosen\n",
    "vs.evaluate(results, accuracy, f1)"
   ]
  },
  {
   "cell_type": "code",
   "execution_count": 27,
   "metadata": {},
   "outputs": [
    {
     "name": "stdout",
     "output_type": "stream",
     "text": [
      "Model: RandomForestClassifier\n",
      "Accuraccy: 0.7791 \n",
      " Fscore_test: 0.7791\n",
      "Accuraccy: 0.8139 \n",
      " Fscore_test: 0.8142\n",
      "Accuraccy: 0.8445 \n",
      " Fscore_test: 0.8447\n",
      "Model: AdaBoostClassifier\n",
      "Accuraccy: 0.7867 \n",
      " Fscore_test: 0.7871\n",
      "Accuraccy: 0.8035 \n",
      " Fscore_test: 0.8036\n",
      "Accuraccy: 0.8074 \n",
      " Fscore_test: 0.8075\n",
      "Model: KNeighborsClassifier\n",
      "Accuraccy: 0.5234 \n",
      " Fscore_test: 0.5241\n",
      "Accuraccy: 0.5436 \n",
      " Fscore_test: 0.5434\n",
      "Accuraccy: 0.5855 \n",
      " Fscore_test: 0.5855\n"
     ]
    }
   ],
   "source": [
    "for k, v in results.items():\n",
    "    print(\"Model: %s\" %(k))\n",
    "    for i in v:\n",
    "        print(\"Accuraccy: %.4f \\n Fscore_test: %.4f\" %(v[i]['acc_test'], v[i]['f_test']))"
   ]
  },
  {
   "cell_type": "markdown",
   "metadata": {},
   "source": [
    "### Tuning the Random Forest Classifier"
   ]
  },
  {
   "cell_type": "markdown",
   "metadata": {},
   "source": [
    "#### Feature Importances"
   ]
  },
  {
   "cell_type": "code",
   "execution_count": 28,
   "metadata": {
    "colab": {
     "base_uri": "https://localhost:8080/",
     "height": 489
    },
    "colab_type": "code",
    "id": "iUx0-hwqscJy",
    "outputId": "3deed1d2-2b05-49a1-bb0c-385d6382b3e0"
   },
   "outputs": [
    {
     "name": "stdout",
     "output_type": "stream",
     "text": [
      "Feature ranking:\n"
     ]
    },
    {
     "data": {
      "image/png": "[encoded data removed]",
      "text/plain": [
       "<Figure size 432x288 with 1 Axes>"
      ]
     },
     "metadata": {
      "needs_background": "light"
     },
     "output_type": "display_data"
    }
   ],
   "source": [
    "# Feature Importance\n",
    "from sklearn import datasets\n",
    "from sklearn import metrics\n",
    "from sklearn.ensemble import ExtraTreesClassifier\n",
    "\n",
    "# fit an Extra Trees model to the data\n",
    "model = ExtraTreesClassifier()\n",
    "X = GTD.drop(['death'], axis=1)\n",
    "y = GTD['death']\n",
    "model.fit(X, y)\n",
    "\n",
    "importances = model.feature_importances_\n",
    "std = np.std([tree.feature_importances_ for tree in model.estimators_],\n",
    "             axis=0)\n",
    "indices = np.argsort(importances)[::-1]\n",
    "\n",
    "# Print the feature ranking\n",
    "print(\"Feature ranking:\")\n",
    "\n",
    "feat_importances = [(feature, round(importance, 3)) for feature, importance in zip(GTD.columns, importances)]\n",
    "feat_importances = sorted(feat_importances, key = lambda x: x[1], reverse = True)\n",
    "feat_importances\n",
    "\n",
    "#for f in range(X.shape[1]):\n",
    "#    print(\"%d. feature %d (%f)\" % (f + 1, indices[f], importances[indices[f]]))\n",
    "\n",
    "# Plot the feature importances of the forest\n",
    "plt.figure()\n",
    "plt.title(\"Feature importances\")\n",
    "plt.bar(range(X.shape[1]), importances[indices],\n",
    "       color=\"r\", yerr=std[indices], align=\"center\")\n",
    "plt.xticks(range(X.shape[1]), indices)\n",
    "plt.xlim([-1, X.shape[1]])\n",
    "plt.show()\n",
    "# display the relative importance of each attribute\n",
    "#print(model.feature_importances_)"
   ]
  },
  {
   "cell_type": "code",
   "execution_count": 29,
   "metadata": {},
   "outputs": [],
   "source": [
    "from sklearn.feature_selection import SelectFromModel\n",
    "\n",
    "feat_labels = GTD.columns\n",
    "sfm = SelectFromModel(clf, threshold=0.02)\n",
    "sfm.fit(X_train, y_train)\n",
    "important_feat = [feat_labels[col] for col in sfm.get_support(indices=True)]\n",
    "#for feature_list_index in sfm.get_support(indices=True):\n",
    "#    print(feat_labels[feature_list_index])\n",
    "important_feat.append('death')"
   ]
  },
  {
   "cell_type": "code",
   "execution_count": 30,
   "metadata": {},
   "outputs": [],
   "source": [
    "X_important_test = sfm.transform(X_test)\n",
    "X_important_train = sfm.transform(X_train)"
   ]
  },
  {
   "cell_type": "code",
   "execution_count": 31,
   "metadata": {},
   "outputs": [
    {
     "name": "stdout",
     "output_type": "stream",
     "text": [
      "Accuracy after Feature Selection: 84.32\n",
      "F_score after Feature Selection: 83.24\n"
     ]
    }
   ],
   "source": [
    "from sklearn.metrics import accuracy_score\n",
    "from sklearn.metrics import f1_score\n",
    "\n",
    "rf = RandomForestClassifier(random_state = 41)\n",
    "rf.fit(X_important_train, y_train)\n",
    "important_pred = rf.predict(X_important_test)\n",
    "\n",
    "print(\"Accuracy after Feature Selection: %.2f\" %round((accuracy_score(y_test, important_pred)*100),2))\n",
    "print(\"F_score after Feature Selection: %.2f\" %round((f1_score(y_test, important_pred)*100),2))"
   ]
  },
  {
   "cell_type": "markdown",
   "metadata": {},
   "source": [
    "#### Validation Set"
   ]
  },
  {
   "cell_type": "code",
   "execution_count": 32,
   "metadata": {},
   "outputs": [
    {
     "name": "stdout",
     "output_type": "stream",
     "text": [
      "train: 0.64% | validation: 0.16% | test 0.2%\n"
     ]
    }
   ],
   "source": [
    "X_intermediate, X_test, y_intermediate, y_test = train_test_split(GTD.drop(['death'], axis=1),\n",
    "                                                                  income,\n",
    "                                                                  shuffle=True,\n",
    "                                                                  test_size = 0.2,\n",
    "                                                                  random_state = 43)\n",
    "\n",
    "X_train, X_validation, y_train, y_validation = train_test_split(X_intermediate,\n",
    "                                                                y_intermediate,\n",
    "                                                                shuffle=False,\n",
    "                                                                test_size=0.2,\n",
    "                                                                random_state=43)\n",
    "# delete intermediate variables\n",
    "del X_intermediate, y_intermediate\n",
    "\n",
    "# print proportions\n",
    "print('train: {}% | validation: {}% | test {}%'.format(round(float(len(y_train))/len(income),2),\n",
    "                                                       round(float(len(y_validation))/len(income),2),\n",
    "                                                       round(float(len(y_test))/len(income),2)))"
   ]
  },
  {
   "cell_type": "code",
   "execution_count": 33,
   "metadata": {},
   "outputs": [
    {
     "name": "stdout",
     "output_type": "stream",
     "text": [
      "----------------------------------------\n",
      "Train:\n",
      "Accuracy: 99.12\n",
      "F_score: 99.09\n",
      "----------------------------------------\n",
      "Validation:\n",
      "Accuracy: 84.52\n",
      "F_score: 83.52\n",
      "----------------------------------------\n",
      "Test:\n",
      "Accuracy: 84.17\n",
      "F_score: 83.08\n",
      "----------------------------------------\n"
     ]
    }
   ],
   "source": [
    "rf.fit(X_train, y_train)\n",
    "\n",
    "print('-'*40)\n",
    "print(\"Train:\")\n",
    "print(\"Accuracy: %.2f\" %round((accuracy_score(y_train, rf.predict(X_train))*100),2))\n",
    "print(\"F_score: %.2f\" %round((f1_score(y_train, rf.predict(X_train))*100),2))\n",
    "print('-'*40)\n",
    "print(\"Validation:\")\n",
    "print(\"Accuracy: %.2f\" %round((accuracy_score(y_validation, rf.predict(X_validation))*100),2))\n",
    "print(\"F_score: %.2f\" %round((f1_score(y_validation, rf.predict(X_validation))*100),2))\n",
    "print('-'*40)\n",
    "print(\"Test:\")\n",
    "print(\"Accuracy: %.2f\" %round((accuracy_score(y_test, rf.predict(X_test))*100),2))\n",
    "print(\"F_score: %.2f\" %round((f1_score(y_test, rf.predict(X_test))*100),2))\n",
    "print('-'*40)"
   ]
  },
  {
   "cell_type": "code",
   "execution_count": 34,
   "metadata": {},
   "outputs": [
    {
     "name": "stdout",
     "output_type": "stream",
     "text": [
      "{'bootstrap': [True, False], 'min_samples_leaf': [1, 2, 4], 'n_estimators': [2, 6, 11, 15, 20], 'min_samples_split': [2, 5, 10], 'max_features': ['auto', 'sqrt'], 'max_depth': [1, 3, 6, 8, 11, None]}\n"
     ]
    }
   ],
   "source": [
    "from sklearn.model_selection import RandomizedSearchCV\n",
    "\n",
    "# Number of trees in random forest\n",
    "n_estimators = [int(x) for x in np.linspace(start = 2, stop = 20, num = 5)]\n",
    "# Number of features to consider at every split\n",
    "max_features = ['auto', 'sqrt']\n",
    "# Maximum number of levels in tree\n",
    "max_depth = [int(x) for x in np.linspace(1, 11, num = 5)]\n",
    "max_depth.append(None)\n",
    "# Minimum number of samples required to split a node\n",
    "min_samples_split = [2, 5, 10]\n",
    "# Minimum number of samples required at each leaf node\n",
    "min_samples_leaf = [1, 2, 4]\n",
    "# Method of selecting samples for training each tree\n",
    "bootstrap = [True, False]\n",
    "\n",
    "# Create the random grid\n",
    "random_grid = {'n_estimators': n_estimators,\n",
    "               'max_features': max_features,\n",
    "               'max_depth': max_depth,\n",
    "               'min_samples_split': min_samples_split,\n",
    "               'min_samples_leaf': min_samples_leaf,\n",
    "               'bootstrap': bootstrap}\n",
    "print(random_grid)"
   ]
  },
  {
   "cell_type": "code",
   "execution_count": 35,
   "metadata": {},
   "outputs": [
    {
     "data": {
      "text/plain": [
       "'rf_random = RandomizedSearchCV(estimator = rf, param_distributions = random_grid, n_iter = 100, cv = 3, verbose=2, random_state=42, n_jobs = -1)\\n\\n# Fit the random search model\\nrf_random.fit(X_train, y_train)\\nbest_random = rf_random.best_estimator_\\nbest_random'"
      ]
     },
     "execution_count": 35,
     "metadata": {},
     "output_type": "execute_result"
    }
   ],
   "source": [
    "\"\"\"rf_random = RandomizedSearchCV(estimator = rf, param_distributions = random_grid, n_iter = 100, cv = 3, verbose=2, random_state=42, n_jobs = -1)\n",
    "\n",
    "# Fit the random search model\n",
    "rf_random.fit(X_train, y_train)\n",
    "best_random = rf_random.best_estimator_\n",
    "best_random\"\"\""
   ]
  },
  {
   "cell_type": "code",
   "execution_count": 36,
   "metadata": {},
   "outputs": [],
   "source": [
    "best_random = RandomForestClassifier(bootstrap=False, class_weight=None, criterion='gini',\n",
    "            max_depth=None, max_features='auto', max_leaf_nodes=None,\n",
    "            min_impurity_decrease=0.0, min_impurity_split=None,\n",
    "            min_samples_leaf=4, min_samples_split=5,\n",
    "            min_weight_fraction_leaf=0.0, n_estimators=20, n_jobs=1,\n",
    "            oob_score=False, random_state=41, verbose=0, warm_start=False)"
   ]
  },
  {
   "cell_type": "code",
   "execution_count": 37,
   "metadata": {},
   "outputs": [
    {
     "name": "stdout",
     "output_type": "stream",
     "text": [
      "----------------------------------------\n",
      "Test:\n",
      "Accuracy: 85.51\n",
      "F_score: 84.99\n",
      "----------------------------------------\n"
     ]
    }
   ],
   "source": [
    "new_rf = best_random\n",
    "new_rf.fit(X_train, y_train)\n",
    "\n",
    "print('-'*40)\n",
    "print(\"Test:\")\n",
    "print(\"Accuracy: %.2f\" %round((accuracy_score(y_test, new_rf.predict(X_test))*100),2))\n",
    "print(\"F_score: %.2f\" %round((f1_score(y_test, new_rf.predict(X_test))*100),2))\n",
    "print('-'*40)"
   ]
  },
  {
   "cell_type": "markdown",
   "metadata": {},
   "source": [
    "**When happens deathes in attacks, how often the model predicts no deathes?**\n",
    "\n",
    "This is the most critical case because the huge problem is whether the model predicts Negative for death occurrence, but the truth is Positive."
   ]
  },
  {
   "cell_type": "code",
   "execution_count": 40,
   "metadata": {},
   "outputs": [
    {
     "name": "stdout",
     "output_type": "stream",
     "text": [
      "Given death occurrance in attacks, the model mistakenly predicted no deathes in 14.99% cases.\n"
     ]
    }
   ],
   "source": [
    "from sklearn import metrics\n",
    "\n",
    "conf_matrix = metrics.confusion_matrix(y_test, new_rf.predict(X_test))\n",
    "TP = conf_matrix[1, 1]\n",
    "TN = conf_matrix[0, 0]\n",
    "FP = conf_matrix[0, 1]\n",
    "FN = conf_matrix[1, 0]\n",
    "print(\"Given death occurrance in attacks, the model mistakenly predicted no deathes in {}% cases.\".format(round(float(FN)/(FN+TP)*100,2)))\n",
    "conf_mat_df = pd.DataFrame(conf_matrix)"
   ]
  }
 ],
 "metadata": {
  "accelerator": "GPU",
  "colab": {
   "collapsed_sections": [
    "x054SlxwhWzJ",
    "-pJc2ydXvd0D",
    "61i7vLzzWeyE",
    "y3Pu6ZNbW6oE",
    "WF-w7nFYqYfB",
    "MakBC_UtrGLe"
   ],
   "name": "GlobalTerrorismAttack.ipynb",
   "provenance": [],
   "version": "0.3.2"
  },
  "kernelspec": {
   "display_name": "Python 3",
   "language": "python",
   "name": "python3"
  },
  "language_info": {
   "codemirror_mode": {
    "name": "ipython",
    "version": 2
   },
   "file_extension": ".py",
   "mimetype": "text/x-python",
   "name": "python",
   "nbconvert_exporter": "python",
   "pygments_lexer": "ipython2",
   "version": "2.7.15rc1"
  }
 },
 "nbformat": 4,
 "nbformat_minor": 1
}
